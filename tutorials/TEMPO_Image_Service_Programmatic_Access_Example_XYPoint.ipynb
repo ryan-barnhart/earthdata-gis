{
 "cells": [
  {
   "cell_type": "markdown",
   "metadata": {
    "id": "Th__PzjAti8k"
   },
   "source": [
    "# Accessing, Analyzing, & Visualizing TEMPO data through ArcGIS Image Services Programmatically"
   ]
  },
  {
   "cell_type": "markdown",
   "metadata": {
    "id": "OQ3XbQM6ti8m"
   },
   "source": [
    "**Overview**\n",
    "Selected TEMPO data have been processed into free, publicly available ArcGIS image services that provide pre-filtered, analysis-ready imagery/data.\n",
    "\n",
    "This notebook illustrates the following:\n",
    "\n",
    "* Choose a TEMPO image service to query\n",
    "* Select time period and point (X,Y) of interest\n",
    "* View data values for point of interest in a table\n",
    "* Chart returned values for point of interest\n",
    "* View imagery for the time period of interest in interactive mapper\n",
    "\n",
    "**Why ArcGIS image services?** Each TEMPO ArcGIS image service is hosted at a service URL, which has several built-in functions provided through the [ArcGIS image service REST API](https://developers.arcgis.com/rest/services-reference/enterprise/image-service/). These functionalities can be accessed via webpage interfaces or called programatically, providing ways to access, analyze, and display the TEMPO data.\n",
    "\n",
    "### Prerequisites\n",
    "Note: ESRI software/licenses are NOT required to access the services via the interfaces or programatically. No GIS software is required to access these TEMPO image services (although there are many methods to use these services in GIS).\n",
    "\n",
    "**Required:**\n",
    "- Basic Python knowledge (variables, loops, functions)\n",
    "- Familiarity with TEMPO instrument and data products\n",
    "\n",
    "**Python Libraries:**\n",
    "- [matplotlib](http://matplotlib.org/) - for creating plots and visualizations\n",
    "- [numpy](https://numpy.org/) - for numerical operations\n",
    "- [ipyleaflet](https://github.com/jupyter-widgets/ipyleaflet/blob/master/python/ipyleaflet/README.md) - for visualization in interactive mapper\n",
    "- [requests](https://github.com/psf/requests) - for sending HTTP requests to service API\n",
    "\n",
    "\n",
    "### Data & Scope\n",
    "Each TEMPO ArcGIS image service has a portal page with detailed descriptions on the service, the filtering applied, geographic and temporal coverage, as well as access to the online map viewer to view the image service. It is strongly recommended to read over the service description to ensure understanding of the data.\n",
    "\n",
    "The TEMPO image services are available in the Esri [Living Atlas of the World](https://livingatlas.arcgis.com/en/browse/?q=tempo#q=tempo&d=2).\n",
    "\n",
    "\n",
    "The example in this notebook uses:\n",
    "- **Product**: TEMPO_NO2_L3_V04 (Level-3 gridded NO₂ tropopsheric column)\n",
    "- **Resolution**: approximately 2.1 km × 4.4 km, hourly during daylight\n",
    "- **Coverage**: North America\n",
    "- **Example region**: Colorado, United States\n",
    "\n",
    "*Methods apply to other TEMPO products (formaldehyde, ozone, etc.) and regions within North America.*\n",
    "\n",
    "TEMPO Version 04 (V04) data are available from September 17, 2025 to present. The previous TEMPO data version (V03) was released publicly on May 24, 2024, and cover the time period from August 2, 2023 to September 16, 2025. All observations since the beginning of the mission are being reprocessed with V04 algorithms, with V04 products becoming publicly available in this service as they are reprocessed. Once the V03 data reprocessing is completed, the V03 service will be deprecated.\n",
    "\n",
    "### Notebook Author / Affiliation\n",
    "- Author: Atmospheric Science Data Center\n",
    "- Questions? Please post questions on the [NASA Earthdata Forum](https://forum.earthdata.nasa.gov/)"
   ]
  },
  {
   "cell_type": "markdown",
   "metadata": {
    "id": "VFdYPYRz-Z2_"
   },
   "source": [
    "# 1. Setup"
   ]
  },
  {
   "cell_type": "markdown",
   "metadata": {
    "id": "1Pyrmj-3-0H8"
   },
   "source": [
    "### 1.1 Install Python packages"
   ]
  },
  {
   "cell_type": "code",
   "execution_count": 1,
   "metadata": {
    "id": "TqBD-cjz71VQ"
   },
   "outputs": [],
   "source": [
    "#Install Python packages if not available\n",
    "#!pip install --quiet ipywidgets nodejs traitlets numpy pandas matplotlib"
   ]
  },
  {
   "cell_type": "markdown",
   "metadata": {
    "id": "O5S-HJqh_Al_"
   },
   "source": [
    "### 1.2 Import Python libraries"
   ]
  },
  {
   "cell_type": "code",
   "execution_count": 2,
   "metadata": {
    "id": "SRPS9e6hti8n"
   },
   "outputs": [],
   "source": [
    "#For accessing data and creating chart\n",
    "import requests\n",
    "import pandas as pd\n",
    "import matplotlib.pyplot as plt\n",
    "import matplotlib.dates as mdates\n",
    "import datetime as dt\n",
    "from dateutil.relativedelta import relativedelta\n",
    "import time\n",
    "from datetime import datetime, timezone\n",
    "\n",
    "#For creating interactive mapper\n",
    "from ipyleaflet import Map, ImageService, basemaps,  WidgetControl\n",
    "from ipywidgets import SelectionSlider, Layout, Label, VBox\n",
    "from datetime import datetime, timezone\n",
    "from ipywidgets import Output, HTML\n",
    "\n",
    "#Set dataframe view options to ensure all rows appear (optional)\n",
    "pd.set_option('display.max_rows', None)"
   ]
  },
  {
   "cell_type": "markdown",
   "metadata": {
    "id": "M2ZNk0bpCcWh"
   },
   "source": [
    "### 1.3 Enable function to convert between human-readable dates and Unix timestamps\n",
    "The TEMPO image services store the timestamp of each data scan as a Unix timestamp (e.g., 1752582321), which is the number of seconds since January 1, 1970 UTC. As these integers are not intuitive, we will use two custom functions to convert between Unix timestamps and human-readable date time strings."
   ]
  },
  {
   "cell_type": "code",
   "execution_count": 3,
   "metadata": {
    "id": "DsnYH7aVti8o"
   },
   "outputs": [],
   "source": [
    "#function to take input time as string and convert to integer of seconds since unix epoch UTC (Jan 1, 1970)\n",
    "def convert_to_milliseconds(date_time_str):\n",
    "    \"\"\"Converts a date-time string in 'YYYY-MM-DD HH:MM:SS' format to milliseconds since epoch.\"\"\"\n",
    "    inputDate = dt.datetime.strptime(date_time_str, \"%Y-%m-%d %H:%M:%S\")\n",
    "    return int(inputDate.replace(tzinfo=timezone.utc).timestamp() * 1000)\n",
    "\n",
    "#function to take input time as integer of seconds since unix epoch UTC (Jan 1, 1970) and convert to string in 'YYYY-MM-DDTHH:MM:SSZ' format\n",
    "def convert_from_milliseconds(milliseconds_since_epoch):\n",
    "    \"\"\"Converts milliseconds since epoch to a date-time string in 'YYYY-MM-DDTHH:MM:SSZ' format.\"\"\"\n",
    "    inputDateMilli = datetime.fromtimestamp((milliseconds_since_epoch)/ 1000, tz=timezone.utc)\n",
    "    return inputDateMilli.strftime('%Y-%m-%dT%H:%M:%SZ')\n"
   ]
  },
  {
   "cell_type": "markdown",
   "metadata": {
    "id": "fpiMtOWBDf85"
   },
   "source": [
    "# 2. User selections\n",
    "Users can select variable, time, and point (X,Y) of interest or use default options. Several of the following sections allow users to choose between various options to tailor this code to their desired analysis. These sections have a default option that will be used if no changes are made. To select one of the other available options, users must adjust which lines of code are commented out (the # at the beginning of the code line) as noted in the instructions for the section. "
   ]
  },
  {
   "cell_type": "markdown",
   "metadata": {
    "id": "fFxGpzF4HlAv"
   },
   "source": [
    "### 2.1 Choose TEMPO product/variable of interest\n",
    "\n",
    "The default is TEMPO NO2 tropospheric column. Users may instead select formaldehyde (HCHO) total column or total column ozone (only one service/variable can be selected at a time)."
   ]
  },
  {
   "cell_type": "code",
   "execution_count": 4,
   "metadata": {
    "id": "qSlOG-Ruti8q"
   },
   "outputs": [],
   "source": [
    "# Select service URL and variable\n",
    "'''Note: Only one image_service_url and corresponding variable_name can be used at a time. The other options should be commented out.'''\n",
    "\n",
    "# Option 1: NO2 Image Service (V04 data; data range: September 17, 2025 - present) (deafault variable)\n",
    "image_service_url = \"https://gis.earthdata.nasa.gov/image/rest/services/C3685896708-LARC_CLOUD/TEMPO_NO2_L3_V04_HOURLY_TROPOSPHERIC_VERTICAL_COLUMN/ImageServer\"\n",
    "variable_name = \"NO2_Troposphere\"\n",
    "\n",
    "# Option 2: Formaldehyde Image Service v4\n",
    "#image_service_url = \"https://gis.earthdata.nasa.gov/image/rest/services/C3685897141-LARC_CLOUD/TEMPO_HCHO_L3_V04_HOURLY_VERTICAL_COLUMN/ImageServer\"\n",
    "#variable_name = \"HCHO\"\n",
    "\n",
    "# Option 3: Ozone Image Service v4\n",
    "# image_service_url = \"https://gis.earthdata.nasa.gov/image/rest/services/C3685896625-LARC_CLOUD/TEMPO_O3TOT_L3_V04_HOURLY_OZONE_COLUMN_AMOUNT/ImageServer\"\n",
    "# variable_name = \"Ozone_Column_Amount\"\n",
    "\n",
    "#Option 4: NO2 image service (V03 data; data range: August 2, 2023 - September 16, 2025)\n",
    "#image_service_url = \"https://gis.earthdata.nasa.gov/image/rest/services/C2930763263-LARC_CLOUD/TEMPO_NO2_L3_V03_HOURLY_TROPOSPHERIC_VERTICAL_COLUMN/ImageServer\"\n",
    "#variable_name = \"NO2_Troposphere\"\n",
    "\n",
    "#Option 5: Formaldehyde image service (V03 data; data range: August 2, 2023 - September 16, 2025)\n",
    "#image_service_url = \"https://gis.earthdata.nasa.gov/image/rest/services/C2930761273-LARC_CLOUD/TEMPO_HCHO_L3_V03_HOURLY_VERTICAL_COLUMN/ImageServer\"\n",
    "#variable_name = \"HCHO\"\n",
    "\n",
    "#Option 6: Ozone image service (V03 data; data range: August 2, 2023 - September 16, 2025)\n",
    "#image_service_url = \"https://gis.earthdata.nasa.gov/image/rest/services/C2930764281-LARC_CLOUD/TEMPO_O3TOT_L3_V03_HOURLY_OZONE_COLUMN_AMOUNT/ImageServer\"\n",
    "#variable_name = \"Ozone_Column_Amount\""
   ]
  },
  {
   "cell_type": "markdown",
   "metadata": {
    "id": "6epuzPOVti8p"
   },
   "source": [
    "### 2.2 Choose time period of interest\n",
    "\n",
    "There are two options:\n",
    "* Option 1 (default): Time period is yesterday (last 24 hours from present)\n",
    "* Option 2: Manually select any time period within scope of TEMPO mission (August 2, 2023 - present)\n",
    "\n",
    "Note: User must comment out the option that is not in use. By default, Option 2 is commented out."
   ]
  },
  {
   "cell_type": "code",
   "execution_count": 5,
   "metadata": {
    "colab": {
     "base_uri": "https://localhost:8080/"
    },
    "id": "LAtmBvIoti8p",
    "outputId": "1888e410-df4f-4cd7-ebf7-9c2c2268c570"
   },
   "outputs": [
    {
     "name": "stdout",
     "output_type": "stream",
     "text": [
      "The time period of interest has been defined as: Start = 2025-10-06 00:00:00 (1759708800000); End: = 2025-10-07 13:00:00 (1759842000000)\n"
     ]
    }
   ],
   "source": [
    "# Choose starting and ending dates to run against\n",
    "\n",
    "yesterday = dt.datetime.today() - dt.timedelta(days=1)\n",
    "today = dt.datetime.today()\n",
    "\n",
    "#Option 1 (Default): Yesterday - today NOTE: converts local computer time to UTC\n",
    "'''Note: If using Option 2, comment out the two lines below:'''\n",
    "start_date_time_str = str(dt.datetime(yesterday.year,yesterday.month,yesterday.day))\n",
    "end_date_time_str = str(dt.datetime(today.year,today.month,today.day, today.hour))\n",
    "\n",
    "#OR\n",
    "\n",
    "#Option 2: Select specifc time period of interest'''\n",
    "'''Note: If using Option 1, comment out the two lines below:'''\n",
    "#start_date_time_str = \"2025-05-06 0:01:00\" #in 'YYYY-MM-DD HH:MM:SS' format \"2025-04-20 12:00:00\"\n",
    "#end_date_time_str = \"2025-05-08 05:00:00\" #in 'YYYY-MM-DD HH:MM:SS' format \"2025-05-25 12:00:00\"\n",
    "\n",
    "# Convert user input dates to milliseconds since epoch\n",
    "start_time = convert_to_milliseconds(start_date_time_str)\n",
    "end_time = convert_to_milliseconds(end_date_time_str)\n",
    "\n",
    "print(f\"The time period of interest has been defined as: Start = {start_date_time_str} ({start_time}); End: = {end_date_time_str} ({end_time})\")"
   ]
  },
  {
   "cell_type": "markdown",
   "metadata": {
    "id": "XJsuFBXfJIrN"
   },
   "source": [
    "### 2.3 Choose point of interest\n",
    "\n",
    "User may select one coordinate pair (X,Y) as a point of interest. Data values for this point will be returned when the image service is queried. (X = longitude, Y = latitude)"
   ]
  },
  {
   "cell_type": "code",
   "execution_count": 6,
   "metadata": {
    "id": "OsBhtwKvJfcx"
   },
   "outputs": [],
   "source": [
    "#User chooses X,Y point of interest\n",
    "'''Note: Replace coordinate with desired point.\n",
    "Coordinate pair should be within quotation marks and have a comma between longitude and latitude values. Ex: \"-84,37\"\n",
    "This variable is for the parameter \"geometry\" in the the URL service call below.'''\n",
    "coor_pts = \"-104.676, 39.856\" # Denver Airport\n"
   ]
  },
  {
   "cell_type": "markdown",
   "metadata": {
    "id": "xcTtAYTTEk0F"
   },
   "source": [
    "# 3. Identify number and timestamp of TEMPO scans in time period of interest"
   ]
  },
  {
   "cell_type": "markdown",
   "metadata": {
    "id": "5a8IVWXqEtol"
   },
   "source": [
    "The timestamp of each TEMPO scan is stored as a dimension in the image service and can be accessed by sending a Multidimensional Info request to the service URL."
   ]
  },
  {
   "cell_type": "code",
   "execution_count": 7,
   "metadata": {
    "colab": {
     "base_uri": "https://localhost:8080/"
    },
    "id": "nXjry79Wti8r",
    "outputId": "02f535cd-e36c-4acc-84c6-dfbca97443ea"
   },
   "outputs": [
    {
     "name": "stdout",
     "output_type": "stream",
     "text": [
      "Number of TEMPO scans: 15\n",
      "1759752611000   2025-10-06T12:10:11Z\n",
      "1759755019000   2025-10-06T12:50:19Z\n",
      "1759757427000   2025-10-06T13:30:27Z\n",
      "1759761027000   2025-10-06T14:30:27Z\n",
      "1759764627000   2025-10-06T15:30:27Z\n",
      "1759768227000   2025-10-06T16:30:27Z\n",
      "1759771827000   2025-10-06T17:30:27Z\n",
      "1759775427000   2025-10-06T18:30:27Z\n",
      "1759779027000   2025-10-06T19:30:27Z\n",
      "1759782627000   2025-10-06T20:30:27Z\n",
      "1759783827000   2025-10-06T20:50:27Z\n",
      "1759785027000   2025-10-06T21:10:27Z\n",
      "1759786227000   2025-10-06T21:30:27Z\n",
      "1759789827000   2025-10-06T22:30:27Z\n",
      "1759792235000   2025-10-06T23:10:35Z\n"
     ]
    }
   ],
   "source": [
    "#Create url for multidimensional info request\n",
    "dim_info_url = f\"{image_service_url}/multidimensionalInfo\"\n",
    "\n",
    "# Make request to service API\n",
    "dim_info = requests.get(dim_info_url, params={\"f\": \"json\"}).json()\n",
    "all_times = dim_info[\"multidimensionalInfo\"][\"variables\"][0][\"dimensions\"][0][\"values\"]\n",
    "\n",
    "# Filter to timestamps within the desired range and print count of scans found\n",
    "timestamps = [t for t in all_times if start_time <= t <= end_time]\n",
    "print(\"Number of TEMPO scans:\", len(timestamps))\n",
    "\n",
    "# Iterate through TEMPO scans and print timestamps as Unix epoch and date string\n",
    "for t in timestamps:\n",
    "    date_strings = convert_from_milliseconds(t)\n",
    "    print(t, \" \", date_strings)"
   ]
  },
  {
   "cell_type": "markdown",
   "metadata": {
    "id": "kbQhb49TMHX7"
   },
   "source": [
    "# 4. Retreive data values for point of interest for selected time period\n",
    "\n",
    "Data values for a selected X,Y point can be accessed by sending a Get Samples request to the service URL and returned in a json.\n",
    "The data are iterated through and values added to a dataframe.\n",
    "The dataframe is then viewed as a table."
   ]
  },
  {
   "cell_type": "markdown",
   "metadata": {
    "id": "75SOoglSNtDl"
   },
   "source": [
    "### 4.1 Get Samples request\n",
    "\n",
    "The user provided information above (variable, time, X,Y point) are used to create a Get Samples request, which is sent to the service API. The data response is then stored in a json to access."
   ]
  },
  {
   "cell_type": "code",
   "execution_count": 8,
   "metadata": {
    "id": "GpjiKZSgti8s"
   },
   "outputs": [],
   "source": [
    "# Create URL for Get Samples request\n",
    "base_url = image_service_url+\"/getSamples/\"\n",
    "params = {\n",
    "    \"geometry\": coor_pts, #Parameter that uses user's chosen lat/lon point\n",
    "    \"geometryType\": \"esriGeometryPoint\",\n",
    "    \"sampleDistance\": \"\",\n",
    "    \"sampleCount\": \"\",\n",
    "    \"mosaicRule\": f'{{\"multidimensionalDefinition\":[{{\"variableName\":\"{variable_name}\"}}]}}', #Parameter that uses user's chosen service variable\n",
    "    \"pixelSize\": \"\",\n",
    "    \"returnFirstValueOnly\": \"false\",\n",
    "    \"interpolation\": \"RSP_BilinearInterpolation\",\n",
    "    \"outFields\": \"\",\n",
    "    \"sliceId\": \"\",\n",
    "    \"time\": f\"{start_time},{end_time}\", #Parameter that uses user's chosen time period\n",
    "    \"f\": \"pjson\"\n",
    "}\n",
    "\n",
    "# Make the request to the service API\n",
    "response = requests.get(base_url, params=params)\n",
    "data = response.json()"
   ]
  },
  {
   "cell_type": "markdown",
   "metadata": {
    "id": "sdBQfwvdOags"
   },
   "source": [
    "### 4.2 Extract data into a dataframe\n",
    "\n",
    "The returned json contains the variable, timestamps, and data values for the TEMPO scans in the selected time period. Not all scans in the selected time period may have data for the selected X,Y point. The retrieved data are iterated through to find which scans had data for the selected X,Y point and adding those data values with their corresponding timestamps to a dataframe. The dataframe is displayed in a table format."
   ]
  },
  {
   "cell_type": "code",
   "execution_count": 9,
   "metadata": {
    "colab": {
     "base_uri": "https://localhost:8080/"
    },
    "id": "m8028TdPti8t",
    "outputId": "d8dcd883-0534-460f-8970-dd3da7f8cdda"
   },
   "outputs": [
    {
     "name": "stdout",
     "output_type": "stream",
     "text": [
      "No NO2_Troposphere data found between 2025-10-06 00:00:00 - 2025-10-07 13:00:00 for point (-104.676, 39.856).\n"
     ]
    }
   ],
   "source": [
    "# Extract relevant information into a DataFrame\n",
    "samples = []\n",
    "for sample in data.get(\"samples\", []):\n",
    "    attributes = sample.get(\"attributes\", {})\n",
    "    var_value = attributes.get(variable_name)\n",
    "    # Only include the sample if it has a valid value for the variable of interest\n",
    "    '''Note: this will result in timeslices being excluded if there are no data for the point of interest.\n",
    "    Code may be modified to see all timestamps (i.e., include TEMPO scans where there are no data).'''\n",
    "    if var_value:\n",
    "        samples.append({\n",
    "            \"StdTime\": attributes[\"StdTime\"],\n",
    "            variable_name: float(var_value)  # Convert to float\n",
    "        })\n",
    "\n",
    "# Convert the list to a DataFrame\n",
    "df = pd.DataFrame(samples)\n",
    "\n",
    "# Check if dataframe is empty. If not empty, convert StdTime from Unix timestamp (milliseconds) to datetime and print dataframe\n",
    "if df.empty:\n",
    "  print(f\"No {variable_name} data found between {start_date_time_str} - {end_date_time_str} for point ({coor_pts}).\")\n",
    "else:\n",
    "  df['StdTime'] = pd.to_datetime(df['StdTime'], unit='ms')\n",
    "  print(df)"
   ]
  },
  {
   "cell_type": "markdown",
   "metadata": {
    "id": "tPW07ddCRTFE"
   },
   "source": [
    "### 4.3 Display the data in a chart\n",
    "\n",
    "The data in the dataframe can be displayed in a chart. The chart can be exported for later use (this option is commented out by default)."
   ]
  },
  {
   "cell_type": "code",
   "execution_count": null,
   "metadata": {
    "colab": {
     "base_uri": "https://localhost:8080/",
     "height": 607
    },
    "id": "WpAAL6RUti8t",
    "outputId": "89e2e85d-c1ac-4334-ee3b-0b4e25d623a0"
   },
   "outputs": [],
   "source": [
    "# Plotting\n",
    "plt.figure(figsize=(10, 6))\n",
    "plt.plot(df['StdTime'], df[variable_name], marker='o', linestyle='-')\n",
    "\n",
    "#Set title and labels--user may change\n",
    "plt.title(f'{variable_name} Over Time') #User may change title as desired\n",
    "plt.xlabel('Time (UTC)')\n",
    "plt.ylabel(f'{variable_name} (molecules/cm^2)') #Change unit as needed for variable selected (e.g., Ozone total is Dobson units)\n",
    "\n",
    "#Set grid, tick marks, and format\n",
    "plt.grid(True)\n",
    "ax = plt.gca()\n",
    "ax.xaxis.set_major_formatter(mdates.DateFormatter('%Y-%m-%d %H:%M:%S'))\n",
    "plt.xticks(rotation=45)\n",
    "plt.tight_layout()\n",
    "\n",
    "# Optional: Save the plot to a a local folder (include file path). Format set to PNG as default but can be changed.\n",
    "#plt.savefig(\"outputGraph.png\", format=\"png\")\n",
    "\n",
    "# Show plot in notebook\n",
    "plt.show()"
   ]
  },
  {
   "cell_type": "markdown",
   "metadata": {
    "id": "aR4x9gRYti8u"
   },
   "source": [
    "# 5. Create an interactive mapper\n",
    "\n",
    "This mapper includes all of the TEMPO scans within the selected time period. The viewer shows the entire scans (not just around the point of interest). The scans can be stepped through using the time slider. Users may zoom in/out on the map. Users can hover over the map to see coordinates. Users can click on the map to have the coordinate point display below the mapper."
   ]
  },
  {
   "cell_type": "code",
   "execution_count": null,
   "metadata": {
    "id": "_hB4JoFRti8u"
   },
   "outputs": [],
   "source": [
    "#A handler that will update the map everytime the user moves the slider\n",
    "def update_image(change):\n",
    "  tempo_image_service.time = [change.new,timestamps[4]]\n",
    "\n",
    "#Function to define interactive map behavior\n",
    "def on_click(**kwargs):\n",
    "    \"\"\"When a user clicks on the map, print coordinates below map\"\"\"\n",
    "    if kwargs.get('type') == 'click':\n",
    "        print(str(kwargs.get('coordinates')))\n",
    "    \"\"\"When a user hovers mouse over map, display coordinates within map\"\"\"\n",
    "    if kwargs.get('type') == 'mousemove':\n",
    "        latlng = kwargs.get('coordinates')\n",
    "        lat, lng = latlng\n",
    "        coordinates_label.value = f\"Coordinates: ({lat:.5f}, {lng:.5f})\"\n"
   ]
  },
  {
   "cell_type": "code",
   "execution_count": null,
   "metadata": {
    "colab": {
     "base_uri": "https://localhost:8080/",
     "height": 421,
     "referenced_widgets": [
      "69b3cd9258004b48a1e1a0721cd06e35",
      "3a4a3ea292d64a33a203f39b575ea69b",
      "1abdaaf10c7c4b11a14781dc04f39d42",
      "ee7e670508ae4039a5d5e15eabc28a7a",
      "c815e56439c24fe7ac6ccaaa26514e7c",
      "75cfaf44d62342c9b6c1a36f1b8d2dc8",
      "3edd3b439366467a8a032de6d8b677ed",
      "e8d53ae2559a46a6bd2f909848ad4962",
      "77079309787d4301a80e228ba4b99928",
      "4b84186548d24812a170e1b5669bbc44",
      "d5c905b0e54a41fd817573887395d59a",
      "4b1f942808524901a2217ae080347a0a",
      "fef456ed23b842d7aa6e97381d3d7bb4",
      "743c408afcfe4b159a3a6149ba495196",
      "a2f4e6170d0943afb5b784ec3f46f064",
      "dd6c24c83e7742939ccc8a8002f2f54b",
      "d27854b7c25b42e28ef11fe810c39509",
      "000f6731622c4d19a766aed7f13c56fc",
      "23361f8d7627429bbcdb2a67e2138b62",
      "1c3d33c8cd1543b095dab6bbec4b1a1f",
      "e5f7851d39284441a8eca670cca6b465",
      "367b83c53d89410f945bf9b3f1f4a32f",
      "5896c8533b664608a7a1d5fa1d3d13c0",
      "dc72b1a4f57e45318342acb62c0c929e",
      "5adeffe1b76a430f81d1a54de41df56d"
     ]
    },
    "id": "Nlv8LGjxti8v",
    "outputId": "159d4bcc-9e51-46a2-ee20-2e2916cb7998"
   },
   "outputs": [],
   "source": [
    "# Initialize the map\n",
    "m = Map(center=(47,-122), zoom=3, basemap=basemaps.Esri.WorldTopoMap)\n",
    "\n",
    "#Set parameters for calling TEMPO image service\n",
    "'''Note: The rendering_rule rasterFunction holds the colormap associated with the image service.\n",
    "Replace with the appropriate colormap for best visualization depending on selected variable.\n",
    "NO2: rendering_rule={\"rasterFunction\":\"matter_RGB\"},\n",
    "HCHO: rendering_rule={\"rasterFunction\":\"haline_RGB\"},\n",
    "Ozone Tot: rendering_rule={\"rasterFunction\":\"batlow_RGB\"}, '''\n",
    "tempo_image_service = ImageService(url=image_service_url,\n",
    "                                   rendering_rule={\"rasterFunction\":\"matter_RGB\"},\n",
    "                                   time=timestamps,\n",
    "                                   format=\"jpgpng\",\n",
    "                                   opacity=0.5,\n",
    "                                   )\n",
    "\n",
    "# Create a list with the user selected UTC times with time_values for easy visualization of time\n",
    "time_strings = [convert_from_milliseconds(t) for t in timestamps]\n",
    "\n",
    "# Create a list of tuples to input in SelectionSlider's options for easy visualization of time\n",
    "time_options = [(time_strings[i], timestamps[i]) for i in range(len(timestamps))]\n",
    "\n",
    "# Create the slider\n",
    "slider = SelectionSlider(description='Time:', options=time_options, layout=Layout(width='700px', height='20px'))\n",
    "#slider = SelectionSlider(description='Time:', options=timestamps, layout=Layout(width='700px', height='20px'))\n",
    "\n",
    "# Create a Label for the VBox\n",
    "time_label = Label(value='Time Slider')\n",
    "\n",
    "#Listens to the slider's user input and helps update the map\n",
    "slider.observe(update_image, 'value')\n",
    "\n",
    "# create a VBox to contain the slider and be placed in the map\n",
    "vbox = VBox([slider, time_label])\n",
    "\n",
    "# Slider placed in bottomleft of the map\n",
    "control = WidgetControl(widget=vbox, position='bottomleft')\n",
    "\n",
    "# Output widget to listen to the user's mouse hovering over the map\n",
    "output = Output()\n",
    "controloutput = WidgetControl(widget=output, position='topright')\n",
    "\n",
    "# Label widget to display coordinates\n",
    "coordinates_label = HTML(value=\"Coordinates: \")\n",
    "coordinates_control = WidgetControl(widget=coordinates_label, position='bottomright')\n",
    "\n",
    "# Add all widgets to the map\n",
    "m.add(tempo_image_service)\n",
    "m.add(control)\n",
    "m.add(controloutput)\n",
    "m.add(coordinates_control)\n",
    "\n",
    "# When user hovers over the map coordinates_label gets updated and prints the coordinates where clicked\n",
    "m.on_interaction(on_click)\n",
    "\n",
    "# Call map\n",
    "m"
   ]
  }
 ],
 "metadata": {
  "colab": {
   "provenance": []
  },
  "kernelspec": {
   "display_name": "Python 3 (ipykernel)",
   "language": "python",
   "name": "python3"
  },
  "language_info": {
   "codemirror_mode": {
    "name": "ipython",
    "version": 3
   },
   "file_extension": ".py",
   "mimetype": "text/x-python",
   "name": "python",
   "nbconvert_exporter": "python",
   "pygments_lexer": "ipython3",
   "version": "3.9.18"
  },
  "widgets": {
   "application/vnd.jupyter.widget-state+json": {
    "000f6731622c4d19a766aed7f13c56fc": {
     "model_module": "@jupyter-widgets/base",
     "model_module_version": "1.2.0",
     "model_name": "LayoutModel",
     "state": {
      "_model_module": "@jupyter-widgets/base",
      "_model_module_version": "1.2.0",
      "_model_name": "LayoutModel",
      "_view_count": null,
      "_view_module": "@jupyter-widgets/base",
      "_view_module_version": "1.2.0",
      "_view_name": "LayoutView",
      "align_content": null,
      "align_items": null,
      "align_self": null,
      "border": null,
      "bottom": null,
      "display": null,
      "flex": null,
      "flex_flow": null,
      "grid_area": null,
      "grid_auto_columns": null,
      "grid_auto_flow": null,
      "grid_auto_rows": null,
      "grid_column": null,
      "grid_gap": null,
      "grid_row": null,
      "grid_template_areas": null,
      "grid_template_columns": null,
      "grid_template_rows": null,
      "height": null,
      "justify_content": null,
      "justify_items": null,
      "left": null,
      "margin": null,
      "max_height": null,
      "max_width": null,
      "min_height": null,
      "min_width": null,
      "object_fit": null,
      "object_position": null,
      "order": null,
      "overflow": null,
      "overflow_x": null,
      "overflow_y": null,
      "padding": null,
      "right": null,
      "top": null,
      "visibility": null,
      "width": null
     }
    },
    "1abdaaf10c7c4b11a14781dc04f39d42": {
     "model_module": "jupyter-leaflet",
     "model_module_version": "^0.20",
     "model_name": "LeafletAttributionControlModel",
     "state": {
      "_model_module": "jupyter-leaflet",
      "_model_module_version": "^0.20",
      "_model_name": "LeafletAttributionControlModel",
      "_view_count": null,
      "_view_module": "jupyter-leaflet",
      "_view_module_version": "^0.20",
      "_view_name": "LeafletAttributionControlView",
      "options": [
       "position",
       "prefix"
      ],
      "position": "bottomright",
      "prefix": "ipyleaflet"
     }
    },
    "1c3d33c8cd1543b095dab6bbec4b1a1f": {
     "model_module": "@jupyter-widgets/base",
     "model_module_version": "1.2.0",
     "model_name": "LayoutModel",
     "state": {
      "_model_module": "@jupyter-widgets/base",
      "_model_module_version": "1.2.0",
      "_model_name": "LayoutModel",
      "_view_count": null,
      "_view_module": "@jupyter-widgets/base",
      "_view_module_version": "1.2.0",
      "_view_name": "LayoutView",
      "align_content": null,
      "align_items": null,
      "align_self": null,
      "border": null,
      "bottom": null,
      "display": null,
      "flex": null,
      "flex_flow": null,
      "grid_area": null,
      "grid_auto_columns": null,
      "grid_auto_flow": null,
      "grid_auto_rows": null,
      "grid_column": null,
      "grid_gap": null,
      "grid_row": null,
      "grid_template_areas": null,
      "grid_template_columns": null,
      "grid_template_rows": null,
      "height": null,
      "justify_content": null,
      "justify_items": null,
      "left": null,
      "margin": null,
      "max_height": null,
      "max_width": null,
      "min_height": null,
      "min_width": null,
      "object_fit": null,
      "object_position": null,
      "order": null,
      "overflow": null,
      "overflow_x": null,
      "overflow_y": null,
      "padding": null,
      "right": null,
      "top": null,
      "visibility": null,
      "width": null
     }
    },
    "23361f8d7627429bbcdb2a67e2138b62": {
     "model_module": "@jupyter-widgets/base",
     "model_module_version": "1.2.0",
     "model_name": "LayoutModel",
     "state": {
      "_model_module": "@jupyter-widgets/base",
      "_model_module_version": "1.2.0",
      "_model_name": "LayoutModel",
      "_view_count": null,
      "_view_module": "@jupyter-widgets/base",
      "_view_module_version": "1.2.0",
      "_view_name": "LayoutView",
      "align_content": null,
      "align_items": null,
      "align_self": null,
      "border": null,
      "bottom": null,
      "display": null,
      "flex": null,
      "flex_flow": null,
      "grid_area": null,
      "grid_auto_columns": null,
      "grid_auto_flow": null,
      "grid_auto_rows": null,
      "grid_column": null,
      "grid_gap": null,
      "grid_row": null,
      "grid_template_areas": null,
      "grid_template_columns": null,
      "grid_template_rows": null,
      "height": null,
      "justify_content": null,
      "justify_items": null,
      "left": null,
      "margin": null,
      "max_height": null,
      "max_width": null,
      "min_height": null,
      "min_width": null,
      "object_fit": null,
      "object_position": null,
      "order": null,
      "overflow": null,
      "overflow_x": null,
      "overflow_y": null,
      "padding": null,
      "right": null,
      "top": null,
      "visibility": null,
      "width": null
     }
    },
    "367b83c53d89410f945bf9b3f1f4a32f": {
     "model_module": "@jupyter-widgets/base",
     "model_module_version": "1.2.0",
     "model_name": "LayoutModel",
     "state": {
      "_model_module": "@jupyter-widgets/base",
      "_model_module_version": "1.2.0",
      "_model_name": "LayoutModel",
      "_view_count": null,
      "_view_module": "@jupyter-widgets/base",
      "_view_module_version": "1.2.0",
      "_view_name": "LayoutView",
      "align_content": null,
      "align_items": null,
      "align_self": null,
      "border": null,
      "bottom": null,
      "display": null,
      "flex": null,
      "flex_flow": null,
      "grid_area": null,
      "grid_auto_columns": null,
      "grid_auto_flow": null,
      "grid_auto_rows": null,
      "grid_column": null,
      "grid_gap": null,
      "grid_row": null,
      "grid_template_areas": null,
      "grid_template_columns": null,
      "grid_template_rows": null,
      "height": "20px",
      "justify_content": null,
      "justify_items": null,
      "left": null,
      "margin": null,
      "max_height": null,
      "max_width": null,
      "min_height": null,
      "min_width": null,
      "object_fit": null,
      "object_position": null,
      "order": null,
      "overflow": null,
      "overflow_x": null,
      "overflow_y": null,
      "padding": null,
      "right": null,
      "top": null,
      "visibility": null,
      "width": "700px"
     }
    },
    "3a4a3ea292d64a33a203f39b575ea69b": {
     "model_module": "jupyter-leaflet",
     "model_module_version": "^0.20",
     "model_name": "LeafletZoomControlModel",
     "state": {
      "_model_module": "jupyter-leaflet",
      "_model_module_version": "^0.20",
      "_model_name": "LeafletZoomControlModel",
      "_view_count": null,
      "_view_module": "jupyter-leaflet",
      "_view_module_version": "^0.20",
      "_view_name": "LeafletZoomControlView",
      "options": [
       "position",
       "zoom_in_text",
       "zoom_in_title",
       "zoom_out_text",
       "zoom_out_title"
      ],
      "position": "topleft",
      "zoom_in_text": "+",
      "zoom_in_title": "Zoom in",
      "zoom_out_text": "-",
      "zoom_out_title": "Zoom out"
     }
    },
    "3edd3b439366467a8a032de6d8b677ed": {
     "model_module": "jupyter-leaflet",
     "model_module_version": "^0.20",
     "model_name": "LeafletMapStyleModel",
     "state": {
      "_model_module": "jupyter-leaflet",
      "_model_module_version": "^0.20",
      "_model_name": "LeafletMapStyleModel",
      "_view_count": null,
      "_view_module": "@jupyter-widgets/base",
      "_view_module_version": "1.2.0",
      "_view_name": "StyleView",
      "cursor": "grab"
     }
    },
    "4b1f942808524901a2217ae080347a0a": {
     "model_module": "jupyter-leaflet",
     "model_module_version": "^0.20",
     "model_name": "LeafletMapStyleModel",
     "state": {
      "_model_module": "jupyter-leaflet",
      "_model_module_version": "^0.20",
      "_model_name": "LeafletMapStyleModel",
      "_view_count": null,
      "_view_module": "@jupyter-widgets/base",
      "_view_module_version": "1.2.0",
      "_view_name": "StyleView",
      "cursor": "grab"
     }
    },
    "4b84186548d24812a170e1b5669bbc44": {
     "model_module": "jupyter-leaflet",
     "model_module_version": "^0.20",
     "model_name": "LeafletImageServiceModel",
     "state": {
      "_model_module": "jupyter-leaflet",
      "_model_module_version": "^0.20",
      "_model_name": "LeafletImageServiceModel",
      "_view_count": null,
      "_view_module": "jupyter-leaflet",
      "_view_module_version": "^0.20",
      "_view_name": "LeafletImageServiceView",
      "attribution": "",
      "band_ids": [],
      "base": false,
      "bottom": false,
      "compression_quality": "",
      "crs": {
       "custom": false,
       "name": "EPSG3857"
      },
      "endpoint": "Esri",
      "f": "image",
      "format": "jpgpng",
      "interactive": false,
      "interpolation": null,
      "mosaic_rule": {},
      "name": "",
      "no_data": [],
      "no_data_interpretation": null,
      "options": [
       "attribution",
       "band_ids",
       "compression_quality",
       "endpoint",
       "f",
       "format",
       "interactive",
       "interpolation",
       "mosaic_rule",
       "no_data",
       "no_data_interpretation",
       "pixel_type",
       "pm_ignore",
       "rendering_rule",
       "time",
       "update_interval"
      ],
      "pane": "",
      "pixel_type": "UNKNOWN",
      "pm_ignore": true,
      "popup": null,
      "popup_max_height": null,
      "popup_max_width": 300,
      "popup_min_width": 50,
      "rendering_rule": {
       "rasterFunction": "matter_RGB"
      },
      "snap_ignore": true,
      "subitems": [],
      "time": [
       1753317429000,
       1753319846000,
       1753353348000,
       1753355765000,
       1753358182000,
       1753360599000,
       1753363016000,
       1753366616000,
       1753370216000,
       1753373816000,
       1753377416000,
       1753381016000,
       1753384616000,
       1753388216000,
       1753391816000,
       1753395416000,
       1753399016000,
       1753401433000
      ],
      "update_interval": 200,
      "url": "https://gis.earthdata.nasa.gov/image/rest/services/C2930763263-LARC_CLOUD/TEMPO_NO2_L3_V03_HOURLY_TROPOSPHERIC_VERTICAL_COLUMN/ImageServer"
     }
    },
    "5896c8533b664608a7a1d5fa1d3d13c0": {
     "model_module": "@jupyter-widgets/controls",
     "model_module_version": "1.5.0",
     "model_name": "DescriptionStyleModel",
     "state": {
      "_model_module": "@jupyter-widgets/controls",
      "_model_module_version": "1.5.0",
      "_model_name": "DescriptionStyleModel",
      "_view_count": null,
      "_view_module": "@jupyter-widgets/base",
      "_view_module_version": "1.2.0",
      "_view_name": "StyleView",
      "description_width": ""
     }
    },
    "5adeffe1b76a430f81d1a54de41df56d": {
     "model_module": "@jupyter-widgets/controls",
     "model_module_version": "1.5.0",
     "model_name": "DescriptionStyleModel",
     "state": {
      "_model_module": "@jupyter-widgets/controls",
      "_model_module_version": "1.5.0",
      "_model_name": "DescriptionStyleModel",
      "_view_count": null,
      "_view_module": "@jupyter-widgets/base",
      "_view_module_version": "1.2.0",
      "_view_name": "StyleView",
      "description_width": ""
     }
    },
    "69b3cd9258004b48a1e1a0721cd06e35": {
     "model_module": "jupyter-leaflet",
     "model_module_version": "^0.20",
     "model_name": "LeafletMapModel",
     "state": {
      "_dom_classes": [],
      "_model_module": "jupyter-leaflet",
      "_model_module_version": "^0.20",
      "_model_name": "LeafletMapModel",
      "_view_count": null,
      "_view_module": "jupyter-leaflet",
      "_view_module_version": "^0.20",
      "_view_name": "LeafletMapView",
      "bottom": 920,
      "bounce_at_zoom_limits": true,
      "box_zoom": true,
      "center": [
       47,
       -122
      ],
      "close_popup_on_click": true,
      "controls": [
       "IPY_MODEL_3a4a3ea292d64a33a203f39b575ea69b",
       "IPY_MODEL_1abdaaf10c7c4b11a14781dc04f39d42",
       "IPY_MODEL_ee7e670508ae4039a5d5e15eabc28a7a",
       "IPY_MODEL_c815e56439c24fe7ac6ccaaa26514e7c",
       "IPY_MODEL_75cfaf44d62342c9b6c1a36f1b8d2dc8"
      ],
      "crs": {
       "custom": false,
       "name": "EPSG3857"
      },
      "default_style": "IPY_MODEL_3edd3b439366467a8a032de6d8b677ed",
      "double_click_zoom": true,
      "dragging": true,
      "dragging_style": "IPY_MODEL_e8d53ae2559a46a6bd2f909848ad4962",
      "east": 16.875000000000004,
      "fullscreen": false,
      "inertia": true,
      "inertia_deceleration": 3000,
      "inertia_max_speed": 1500,
      "interpolation": "bilinear",
      "keyboard": true,
      "keyboard_pan_offset": 80,
      "keyboard_zoom_offset": 1,
      "layers": [
       "IPY_MODEL_77079309787d4301a80e228ba4b99928",
       "IPY_MODEL_4b84186548d24812a170e1b5669bbc44"
      ],
      "layout": "IPY_MODEL_d5c905b0e54a41fd817573887395d59a",
      "left": -460,
      "max_zoom": null,
      "min_zoom": null,
      "modisdate": "2025-07-24",
      "north": 65.94647177615741,
      "options": [
       "bounce_at_zoom_limits",
       "box_zoom",
       "center",
       "close_popup_on_click",
       "double_click_zoom",
       "dragging",
       "fullscreen",
       "inertia",
       "inertia_deceleration",
       "inertia_max_speed",
       "interpolation",
       "keyboard",
       "keyboard_pan_offset",
       "keyboard_zoom_offset",
       "max_zoom",
       "min_zoom",
       "prefer_canvas",
       "scroll_wheel_zoom",
       "tap",
       "tap_tolerance",
       "touch_zoom",
       "world_copy_jump",
       "zoom",
       "zoom_animation_threshold",
       "zoom_delta",
       "zoom_snap"
      ],
      "panes": {},
      "prefer_canvas": false,
      "right": 1120,
      "scroll_wheel_zoom": false,
      "south": 17.978733095556183,
      "style": "IPY_MODEL_4b1f942808524901a2217ae080347a0a",
      "tap": true,
      "tap_tolerance": 15,
      "top": 520,
      "touch_zoom": true,
      "west": -260.85937500000006,
      "window_url": "https://pd39ugfuebd-496ff2e9c6d22116-0-colab.googleusercontent.com/outputframe.html?vrz=colab_20250721-060059_RC00_785373674",
      "world_copy_jump": false,
      "zoom": 3,
      "zoom_animation_threshold": 4,
      "zoom_delta": 1,
      "zoom_snap": 1
     }
    },
    "743c408afcfe4b159a3a6149ba495196": {
     "model_module": "@jupyter-widgets/output",
     "model_module_version": "1.0.0",
     "model_name": "OutputModel",
     "state": {
      "_dom_classes": [],
      "_model_module": "@jupyter-widgets/output",
      "_model_module_version": "1.0.0",
      "_model_name": "OutputModel",
      "_view_count": null,
      "_view_module": "@jupyter-widgets/output",
      "_view_module_version": "1.0.0",
      "_view_name": "OutputView",
      "layout": "IPY_MODEL_23361f8d7627429bbcdb2a67e2138b62",
      "msg_id": "",
      "outputs": []
     }
    },
    "75cfaf44d62342c9b6c1a36f1b8d2dc8": {
     "model_module": "jupyter-leaflet",
     "model_module_version": "^0.20",
     "model_name": "LeafletWidgetControlModel",
     "state": {
      "_model_module": "jupyter-leaflet",
      "_model_module_version": "^0.20",
      "_model_name": "LeafletWidgetControlModel",
      "_view_count": null,
      "_view_module": "jupyter-leaflet",
      "_view_module_version": "^0.20",
      "_view_name": "LeafletWidgetControlView",
      "max_height": null,
      "max_width": null,
      "min_height": null,
      "min_width": null,
      "options": [
       "position",
       "transparent_bg"
      ],
      "position": "bottomright",
      "transparent_bg": false,
      "widget": "IPY_MODEL_a2f4e6170d0943afb5b784ec3f46f064"
     }
    },
    "77079309787d4301a80e228ba4b99928": {
     "model_module": "jupyter-leaflet",
     "model_module_version": "^0.20",
     "model_name": "LeafletTileLayerModel",
     "state": {
      "_model_module": "jupyter-leaflet",
      "_model_module_version": "^0.20",
      "_model_name": "LeafletTileLayerModel",
      "_view_count": null,
      "_view_module": "jupyter-leaflet",
      "_view_module_version": "^0.20",
      "_view_name": "LeafletTileLayerView",
      "attribution": "Tiles &copy; Esri &mdash; Esri, DeLorme, NAVTEQ, TomTom, Intermap, iPC, USGS, FAO, NPS, NRCAN, GeoBase, Kadaster NL, Ordnance Survey, Esri Japan, METI, Esri China (Hong Kong), and the GIS User Community",
      "base": true,
      "bottom": true,
      "bounds": null,
      "detect_retina": false,
      "loading": false,
      "max_native_zoom": null,
      "max_zoom": 18,
      "min_native_zoom": null,
      "min_zoom": 1,
      "name": "Esri.WorldTopoMap",
      "no_wrap": false,
      "opacity": 1,
      "options": [
       "attribution",
       "bounds",
       "detect_retina",
       "max_native_zoom",
       "max_zoom",
       "min_native_zoom",
       "min_zoom",
       "no_wrap",
       "pm_ignore",
       "tile_size",
       "tms",
       "zoom_offset"
      ],
      "pane": "",
      "pm_ignore": true,
      "popup": null,
      "popup_max_height": null,
      "popup_max_width": 300,
      "popup_min_width": 50,
      "show_loading": false,
      "snap_ignore": true,
      "subitems": [],
      "tile_size": 256,
      "tms": false,
      "url": "https://server.arcgisonline.com/ArcGIS/rest/services/World_Topo_Map/MapServer/tile/{z}/{y}/{x}",
      "visible": true,
      "zoom_offset": 0
     }
    },
    "a2f4e6170d0943afb5b784ec3f46f064": {
     "model_module": "@jupyter-widgets/controls",
     "model_module_version": "1.5.0",
     "model_name": "HTMLModel",
     "state": {
      "_dom_classes": [],
      "_model_module": "@jupyter-widgets/controls",
      "_model_module_version": "1.5.0",
      "_model_name": "HTMLModel",
      "_view_count": null,
      "_view_module": "@jupyter-widgets/controls",
      "_view_module_version": "1.5.0",
      "_view_name": "HTMLView",
      "description": "",
      "description_tooltip": null,
      "layout": "IPY_MODEL_1c3d33c8cd1543b095dab6bbec4b1a1f",
      "placeholder": "​",
      "style": "IPY_MODEL_e5f7851d39284441a8eca670cca6b465",
      "value": "Coordinates: (65.36684, -239.06710)"
     }
    },
    "c815e56439c24fe7ac6ccaaa26514e7c": {
     "model_module": "jupyter-leaflet",
     "model_module_version": "^0.20",
     "model_name": "LeafletWidgetControlModel",
     "state": {
      "_model_module": "jupyter-leaflet",
      "_model_module_version": "^0.20",
      "_model_name": "LeafletWidgetControlModel",
      "_view_count": null,
      "_view_module": "jupyter-leaflet",
      "_view_module_version": "^0.20",
      "_view_name": "LeafletWidgetControlView",
      "max_height": null,
      "max_width": null,
      "min_height": null,
      "min_width": null,
      "options": [
       "position",
       "transparent_bg"
      ],
      "position": "topright",
      "transparent_bg": false,
      "widget": "IPY_MODEL_743c408afcfe4b159a3a6149ba495196"
     }
    },
    "d27854b7c25b42e28ef11fe810c39509": {
     "model_module": "@jupyter-widgets/controls",
     "model_module_version": "1.5.0",
     "model_name": "LabelModel",
     "state": {
      "_dom_classes": [],
      "_model_module": "@jupyter-widgets/controls",
      "_model_module_version": "1.5.0",
      "_model_name": "LabelModel",
      "_view_count": null,
      "_view_module": "@jupyter-widgets/controls",
      "_view_module_version": "1.5.0",
      "_view_name": "LabelView",
      "description": "",
      "description_tooltip": null,
      "layout": "IPY_MODEL_dc72b1a4f57e45318342acb62c0c929e",
      "placeholder": "​",
      "style": "IPY_MODEL_5adeffe1b76a430f81d1a54de41df56d",
      "value": "Time Slider"
     }
    },
    "d5c905b0e54a41fd817573887395d59a": {
     "model_module": "@jupyter-widgets/base",
     "model_module_version": "1.2.0",
     "model_name": "LayoutModel",
     "state": {
      "_model_module": "@jupyter-widgets/base",
      "_model_module_version": "1.2.0",
      "_model_name": "LayoutModel",
      "_view_count": null,
      "_view_module": "@jupyter-widgets/base",
      "_view_module_version": "1.2.0",
      "_view_name": "LayoutView",
      "align_content": null,
      "align_items": null,
      "align_self": null,
      "border": null,
      "bottom": null,
      "display": null,
      "flex": null,
      "flex_flow": null,
      "grid_area": null,
      "grid_auto_columns": null,
      "grid_auto_flow": null,
      "grid_auto_rows": null,
      "grid_column": null,
      "grid_gap": null,
      "grid_row": null,
      "grid_template_areas": null,
      "grid_template_columns": null,
      "grid_template_rows": null,
      "height": null,
      "justify_content": null,
      "justify_items": null,
      "left": null,
      "margin": null,
      "max_height": null,
      "max_width": null,
      "min_height": null,
      "min_width": null,
      "object_fit": null,
      "object_position": null,
      "order": null,
      "overflow": null,
      "overflow_x": null,
      "overflow_y": null,
      "padding": null,
      "right": null,
      "top": null,
      "visibility": null,
      "width": null
     }
    },
    "dc72b1a4f57e45318342acb62c0c929e": {
     "model_module": "@jupyter-widgets/base",
     "model_module_version": "1.2.0",
     "model_name": "LayoutModel",
     "state": {
      "_model_module": "@jupyter-widgets/base",
      "_model_module_version": "1.2.0",
      "_model_name": "LayoutModel",
      "_view_count": null,
      "_view_module": "@jupyter-widgets/base",
      "_view_module_version": "1.2.0",
      "_view_name": "LayoutView",
      "align_content": null,
      "align_items": null,
      "align_self": null,
      "border": null,
      "bottom": null,
      "display": null,
      "flex": null,
      "flex_flow": null,
      "grid_area": null,
      "grid_auto_columns": null,
      "grid_auto_flow": null,
      "grid_auto_rows": null,
      "grid_column": null,
      "grid_gap": null,
      "grid_row": null,
      "grid_template_areas": null,
      "grid_template_columns": null,
      "grid_template_rows": null,
      "height": null,
      "justify_content": null,
      "justify_items": null,
      "left": null,
      "margin": null,
      "max_height": null,
      "max_width": null,
      "min_height": null,
      "min_width": null,
      "object_fit": null,
      "object_position": null,
      "order": null,
      "overflow": null,
      "overflow_x": null,
      "overflow_y": null,
      "padding": null,
      "right": null,
      "top": null,
      "visibility": null,
      "width": null
     }
    },
    "dd6c24c83e7742939ccc8a8002f2f54b": {
     "model_module": "@jupyter-widgets/controls",
     "model_module_version": "1.5.0",
     "model_name": "SelectionSliderModel",
     "state": {
      "_dom_classes": [],
      "_model_module": "@jupyter-widgets/controls",
      "_model_module_version": "1.5.0",
      "_model_name": "SelectionSliderModel",
      "_options_labels": [
       "2025-07-24T00:37:09Z",
       "2025-07-24T01:17:26Z",
       "2025-07-24T10:35:48Z",
       "2025-07-24T11:16:05Z",
       "2025-07-24T11:56:22Z"
      ],
      "_view_count": null,
      "_view_module": "@jupyter-widgets/controls",
      "_view_module_version": "1.5.0",
      "_view_name": "SelectionSliderView",
      "continuous_update": true,
      "description": "Time:",
      "description_tooltip": null,
      "disabled": false,
      "index": 0,
      "layout": "IPY_MODEL_367b83c53d89410f945bf9b3f1f4a32f",
      "orientation": "horizontal",
      "readout": true,
      "style": "IPY_MODEL_5896c8533b664608a7a1d5fa1d3d13c0"
     }
    },
    "e5f7851d39284441a8eca670cca6b465": {
     "model_module": "@jupyter-widgets/controls",
     "model_module_version": "1.5.0",
     "model_name": "DescriptionStyleModel",
     "state": {
      "_model_module": "@jupyter-widgets/controls",
      "_model_module_version": "1.5.0",
      "_model_name": "DescriptionStyleModel",
      "_view_count": null,
      "_view_module": "@jupyter-widgets/base",
      "_view_module_version": "1.2.0",
      "_view_name": "StyleView",
      "description_width": ""
     }
    },
    "e8d53ae2559a46a6bd2f909848ad4962": {
     "model_module": "jupyter-leaflet",
     "model_module_version": "^0.20",
     "model_name": "LeafletMapStyleModel",
     "state": {
      "_model_module": "jupyter-leaflet",
      "_model_module_version": "^0.20",
      "_model_name": "LeafletMapStyleModel",
      "_view_count": null,
      "_view_module": "@jupyter-widgets/base",
      "_view_module_version": "1.2.0",
      "_view_name": "StyleView",
      "cursor": "move"
     }
    },
    "ee7e670508ae4039a5d5e15eabc28a7a": {
     "model_module": "jupyter-leaflet",
     "model_module_version": "^0.20",
     "model_name": "LeafletWidgetControlModel",
     "state": {
      "_model_module": "jupyter-leaflet",
      "_model_module_version": "^0.20",
      "_model_name": "LeafletWidgetControlModel",
      "_view_count": null,
      "_view_module": "jupyter-leaflet",
      "_view_module_version": "^0.20",
      "_view_name": "LeafletWidgetControlView",
      "max_height": null,
      "max_width": null,
      "min_height": null,
      "min_width": null,
      "options": [
       "position",
       "transparent_bg"
      ],
      "position": "bottomleft",
      "transparent_bg": false,
      "widget": "IPY_MODEL_fef456ed23b842d7aa6e97381d3d7bb4"
     }
    },
    "fef456ed23b842d7aa6e97381d3d7bb4": {
     "model_module": "@jupyter-widgets/controls",
     "model_module_version": "1.5.0",
     "model_name": "VBoxModel",
     "state": {
      "_dom_classes": [],
      "_model_module": "@jupyter-widgets/controls",
      "_model_module_version": "1.5.0",
      "_model_name": "VBoxModel",
      "_view_count": null,
      "_view_module": "@jupyter-widgets/controls",
      "_view_module_version": "1.5.0",
      "_view_name": "VBoxView",
      "box_style": "",
      "children": [
       "IPY_MODEL_dd6c24c83e7742939ccc8a8002f2f54b",
       "IPY_MODEL_d27854b7c25b42e28ef11fe810c39509"
      ],
      "layout": "IPY_MODEL_000f6731622c4d19a766aed7f13c56fc"
     }
    }
   }
  }
 },
 "nbformat": 4,
 "nbformat_minor": 4
}
