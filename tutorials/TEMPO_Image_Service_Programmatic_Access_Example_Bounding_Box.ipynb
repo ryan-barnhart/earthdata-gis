{
 "cells": [
  {
   "cell_type": "markdown",
   "metadata": {},
   "source": [
    "# Accessing, Analyzing, & Visualizing TEMPO data through ArcGIS Image Services Programmatically (Bounding Box)"
   ]
  },
  {
   "cell_type": "markdown",
   "metadata": {
    "tags": []
   },
   "source": [
    "**Overview**\n",
    "Selected TEMPO data have been processed into free, publicly available ArcGIS image services that provide pre-filtered, analysis-ready imagery/data.\n",
    "\n",
    "This notebook illustrates the following:\n",
    "\n",
    "* Choose a TEMPO image service to query\n",
    "* Select a time period and geometry bounding box (envelope) of interest\n",
    "* View data values for area of interest in a table\n",
    "* Chart returned values for area of interest\n",
    "* View imagery for the time period of interest in interactive mapper\n",
    "\n",
    "**Why ArcGIS image services?** Each TEMPO ArcGIS image service is hosted at a service URL, which has several built-in functions provided through the [ArcGIS image service REST API](https://developers.arcgis.com/rest/services-reference/enterprise/image-service/). These functionalities can be accessed via webpage interfaces or called programatically, providing ways to access, analyze, and display the TEMPO data.\n",
    "\n",
    "### Prerequisites\n",
    "Note: ESRI software/licenses are NOT required to access the services via the interfaces or programatically. No GIS software is required to access these TEMPO image services (although there are many methods to use these services in GIS).\n",
    "\n",
    "**Required:**\n",
    "- Basic Python knowledge (variables, loops, functions)\n",
    "- Familiarity with TEMPO instrument and data products\n",
    "\n",
    "**Python Libraries:**\n",
    "- [matplotlib](http://matplotlib.org/) - for creating plots and visualizations\n",
    "- [numpy](https://numpy.org/) - for numerical operations\n",
    "- [ipyleaflet](https://github.com/jupyter-widgets/ipyleaflet/blob/master/python/ipyleaflet/README.md) - for visualization in interactive mapper\n",
    "- [requests](https://github.com/psf/requests) - for sending HTTP requests to service API\n",
    "\n",
    "\n",
    "### Data & Scope\n",
    "Each TEMPO ArcGIS image service has a portal page with detailed descriptions on the service, the filtering applied, geographic and temporal coverage, as well as access to the online map viewer to view the image service. It is strongly recommended to read over the service description to ensure understanding of the data.\n",
    "\n",
    "The TEMPO image services are available in the Esri [Living Atlas of the World](https://livingatlas.arcgis.com/en/browse/?q=tempo#q=tempo&d=2).\n",
    "\n",
    "\n",
    "The example in this notebook uses:\n",
    "- **Product**: TEMPO_NO2_L3_V04 (Level-3 gridded NO₂ tropopsheric column)\n",
    "- **Resolution**: approximately 2.1 km × 4.4 km, hourly during daylight\n",
    "- **Coverage**: North America\n",
    "- **Example region**: Hampton Roads, Virginia\n",
    "\n",
    "*Methods apply to other TEMPO products (formaldehyde, ozone, etc.) and regions within North America.*\n",
    "\n",
    "TEMPO Version 04 (V04) data are available from September 17, 2025 to present. The previous TEMPO data version (V03) was released publicly on May 24, 2024, and cover the time period from August 2, 2023 to September 16, 2025. All observations since the beginning of the mission are being reprocessed with V04 algorithms, with V04 products becoming publicly available in this service as they are reprocessed. Once the V03 data reprocessing is completed, the V03 service will be deprecated.\n",
    "\n",
    "### Notebook Author / Affiliation\n",
    "- Author: Atmospheric Science Data Center\n",
    "- Questions? Please post questions on the [NASA Earthdata Forum](https://forum.earthdata.nasa.gov/)"
   ]
  },
  {
   "cell_type": "markdown",
   "metadata": {
    "tags": []
   },
   "source": [
    "## 1. Setup"
   ]
  },
  {
   "cell_type": "markdown",
   "metadata": {
    "tags": []
   },
   "source": [
    "### 1.1 Install Python packages"
   ]
  },
  {
   "cell_type": "code",
   "execution_count": 1,
   "metadata": {},
   "outputs": [],
   "source": [
    "# Install Python packages if not available\n",
    "#!pip install --quiet ipywidgets nodejs traitlets numpy pandas matplotlib"
   ]
  },
  {
   "cell_type": "markdown",
   "metadata": {},
   "source": [
    "### 1.2 Import Python libraries"
   ]
  },
  {
   "cell_type": "code",
   "execution_count": 2,
   "metadata": {},
   "outputs": [],
   "source": [
    "# For accessing data and creating chart\n",
    "import requests\n",
    "import pandas as pd\n",
    "import matplotlib.pyplot as plt\n",
    "import matplotlib.dates as mdates\n",
    "import datetime as dt\n",
    "from datetime import datetime, timezone\n",
    "import json\n",
    "\n",
    "# For creating interactive mapper\n",
    "from ipyleaflet import Map, ImageService, basemaps, WidgetControl\n",
    "from ipywidgets import SelectionSlider, Layout, Label, VBox\n",
    "from ipywidgets import Output, HTML\n",
    "\n",
    "# Set dataframe view options to ensure all rows appear (optional)\n",
    "pd.set_option(\"display.max_rows\", None)"
   ]
  },
  {
   "cell_type": "markdown",
   "metadata": {},
   "source": [
    "### 1.3 Enable function to convert between human-readable dates and Unix timestamps\n",
    "The TEMPO image services store the timestamp of each data scan as a Unix timestamp (e.g., 1752582321), which is the number of seconds since January 1, 1970 UTC. As these integers are not intuitive, we will use two custom functions to convert between Unix timestamps and human-readable date time strings."
   ]
  },
  {
   "cell_type": "code",
   "execution_count": 3,
   "metadata": {},
   "outputs": [],
   "source": [
    "# function to take input time as string and convert to integer of seconds since unix epoch UTC (Jan 1, 1970)\n",
    "def convert_to_milliseconds(date_time_str):\n",
    "    \"\"\"Converts a date-time string in 'YYYY-MM-DD HH:MM:SS' format to milliseconds since epoch.\"\"\"\n",
    "    inputDate = dt.datetime.strptime(date_time_str, \"%Y-%m-%d %H:%M:%S\")\n",
    "    return int(inputDate.replace(tzinfo=timezone.utc).timestamp() * 1000)\n",
    "\n",
    "\n",
    "# function to take input time as integer of seconds since unix epoch UTC (Jan 1, 1970) and convert to string in 'YYYY-MM-DDTHH:MM:SSZ' format\n",
    "def convert_from_milliseconds(milliseconds_since_epoch):\n",
    "    \"\"\"Converts milliseconds since epoch to a date-time string in 'YYYY-MM-DDTHH:MM:SSZ' format.\"\"\"\n",
    "    inputDateMilli = datetime.fromtimestamp((milliseconds_since_epoch) / 1000, tz=timezone.utc)\n",
    "    return inputDateMilli.strftime(\"%Y-%m-%dT%H:%M:%SZ\")"
   ]
  },
  {
   "cell_type": "markdown",
   "metadata": {},
   "source": [
    "## 2. User Selections\n",
    "Users can select the variable, time window, and bounding box (Xmin, Ymin, Xmax, Ymax) of interest or use defaults. Several of the following sections allow users to choose between various options to tailor this code to their desired analysis. These sections have a default option that will be used if no changes are made. To select one of the other available options, users must adjust which lines of code are commented out (the # at the beginning of the code line) as noted in the instructions for the section. "
   ]
  },
  {
   "cell_type": "markdown",
   "metadata": {},
   "source": [
    "### 2.1 Choose TEMPO product/variable of interest\n",
    "\n",
    "The default is TEMPO NO2 tropospheric column. Users may instead select formaldehyde (HCHO) total column or total column ozone (only one service/variable can be selected at a time)."
   ]
  },
  {
   "cell_type": "code",
   "execution_count": 4,
   "metadata": {},
   "outputs": [],
   "source": [
    "# NOTE: Use exactly one image_service_url + variable_name. Comment out others.\n",
    "\n",
    "# Option 1: NO2 image service (default)\n",
    "# image_service_url = \"https://gis.earthdata.nasa.gov/image/rest/services/C2930763263-LARC_CLOUD/TEMPO_NO2_L3_V03_HOURLY_TROPOSPHERIC_VERTICAL_COLUMN/ImageServer\"\n",
    "# variable_name = \"NO2_Troposphere\"\n",
    "\n",
    "# Option 2: Formaldehyde image service\n",
    "# image_service_url = \"https://gis.earthdata.nasa.gov/image/rest/services/C2930761273-LARC_CLOUD/TEMPO_HCHO_L3_V03_HOURLY_VERTICAL_COLUMN/ImageServer\"\n",
    "# variable_name = \"HCHO\"\n",
    "\n",
    "# Option 3: Total Column Ozone\n",
    "# image_service_url = \"https://gis.earthdata.nasa.gov/image/rest/services/C2930764281-LARC_CLOUD/TEMPO_O3TOT_L3_V03_HOURLY_OZONE_COLUMN_AMOUNT/ImageServer\"\n",
    "# variable_name = \"Ozone_Column_Amount\"\n",
    "\n",
    "# Option 4: NO2 Image Service v4\n",
    "# image_service_url = \"https://gis.earthdata.nasa.gov/image/rest/services/C3685896708-LARC_CLOUD/TEMPO_NO2_L3_V04_HOURLY_TROPOSPHERIC_VERTICAL_COLUMN/ImageServer\"\n",
    "# variable_name = \"NO2_Troposphere\"\n",
    "\n",
    "# Option 5: Formaldehyde Image Service v4\n",
    "image_service_url = \"https://gis.earthdata.nasa.gov/image/rest/services/C3685897141-LARC_CLOUD/TEMPO_HCHO_L3_V04_HOURLY_VERTICAL_COLUMN/ImageServer\"\n",
    "variable_name = \"HCHO\"\n",
    "\n",
    "# Option 6: Ozone Image Service v4\n",
    "# image_service_url = \"https://gis.earthdata.nasa.gov/image/rest/services/C3685896625-LARC_CLOUD/TEMPO_O3TOT_L3_V04_HOURLY_OZONE_COLUMN_AMOUNT/ImageServer\"\n",
    "# variable_name = \"Ozone_Column_Amount\""
   ]
  },
  {
   "cell_type": "markdown",
   "metadata": {
    "tags": []
   },
   "source": [
    "### 2.2 Choose time period of interest\n",
    "\n",
    "There are two options:\n",
    "* Option 1 (default): Time period is yesterday (last 24 hours from present)\n",
    "* Option 2: Manually select any time period within scope of TEMPO mission (August 2, 2023 - present)\n",
    "\n",
    "Note: User must comment out the option that is not in use. By default, Option 2 is commented out."
   ]
  },
  {
   "cell_type": "code",
   "execution_count": 5,
   "metadata": {
    "tags": []
   },
   "outputs": [
    {
     "name": "stdout",
     "output_type": "stream",
     "text": [
      "The time period of interest has been defined as: Start = 2025-09-20 0:01:00 (1758326460000); End: = 2025-09-25 05:00:00 (1758776400000)\n"
     ]
    }
   ],
   "source": [
    "# Choose starting and ending dates to run against\n",
    "\n",
    "yesterday = dt.datetime.today() - dt.timedelta(days=1)\n",
    "today = dt.datetime.today()\n",
    "\n",
    "# Option 1 (Default): Yesterday - today NOTE: converts local computer time to UTC\n",
    "# If using Google Colab, use this time_options to account for a bug that occurs if more than 5 timeslices are called at a time\n",
    "# time_options = [(time_strings[i], timestamps[i]) for i in range(5)]\n",
    "\"\"\"Note: If using Option 2, comment out the two lines below:\"\"\"\n",
    "# start_date_time_str = str(dt.datetime(yesterday.year, yesterday.month, yesterday.day))\n",
    "# end_date_time_str = str(dt.datetime(today.year, today.month, today.day, today.hour))\n",
    "\n",
    "# OR\n",
    "\n",
    "# Option 2: If not using Google Colab, use this time_options to call all timeslices. Change specifc time period of interest as desired\n",
    "\"\"\"Note: If using Option 1, comment out the two lines below:\"\"\"\n",
    "start_date_time_str = \"2025-09-20 0:01:00\" #in 'YYYY-MM-DD HH:MM:SS' format \"2025-04-20 12:00:00\"\n",
    "end_date_time_str = \"2025-09-25 05:00:00\" #in 'YYYY-MM-DD HH:MM:SS' format \"2025-05-25 12:00:00\"\n",
    "\n",
    "# Convert user input dates to milliseconds since epoch\n",
    "start_time = convert_to_milliseconds(start_date_time_str)\n",
    "end_time = convert_to_milliseconds(end_date_time_str)\n",
    "\n",
    "print(f\"The time period of interest has been defined as: Start = {start_date_time_str} ({start_time}); End: = {end_date_time_str} ({end_time})\")"
   ]
  },
  {
   "cell_type": "markdown",
   "metadata": {},
   "source": [
    "### 2.3 Choose bounding box (envelope) of interest\n",
    "\n",
    "Provide WGS84 (EPSG:4326) coordinates. Example below is Hampton Roads, VA area. Update as needed."
   ]
  },
  {
   "cell_type": "code",
   "execution_count": 6,
   "metadata": {
    "tags": []
   },
   "outputs": [
    {
     "name": "stdout",
     "output_type": "stream",
     "text": [
      "Geometry (xmin, ymin, xmax, ymax): -76.6 37.1 -76.3 37.3\n"
     ]
    }
   ],
   "source": [
    "# Bounding box / geometry envelope in WGS84 (EPSG:4326)\n",
    "xmin, ymin = -76.6, 37.1\n",
    "xmax, ymax = -76.3, 37.3\n",
    "\n",
    "geometry_envelope = {\n",
    "    \"xmin\": xmin,\n",
    "    \"ymin\": ymin,\n",
    "    \"xmax\": xmax,\n",
    "    \"ymax\": ymax,\n",
    "    \"spatialReference\": {\"wkid\": 4326}\n",
    "}\n",
    "print(\"Geometry (xmin, ymin, xmax, ymax):\", xmin, ymin, xmax, ymax)\n"
   ]
  },
  {
   "cell_type": "markdown",
   "metadata": {},
   "source": [
    "# 3. Identify number and timestamp of TEMPO scans in time period of interest"
   ]
  },
  {
   "cell_type": "markdown",
   "metadata": {
    "tags": []
   },
   "source": [
    "The timestamp of each TEMPO scan is stored as a dimension in the image service and can be accessed by sending a Multidimenaional Info request to the service URL."
   ]
  },
  {
   "cell_type": "code",
   "execution_count": 7,
   "metadata": {
    "tags": []
   },
   "outputs": [
    {
     "name": "stdout",
     "output_type": "stream",
     "text": [
      "Number of TEMPO scans: 67\n",
      "1758368488000   2025-09-20T11:41:28Z\n",
      "1758370896000   2025-09-20T12:21:36Z\n",
      "1758373304000   2025-09-20T13:01:44Z\n",
      "1758376904000   2025-09-20T14:01:44Z\n",
      "1758380504000   2025-09-20T15:01:44Z\n",
      "1758384104000   2025-09-20T16:01:44Z\n",
      "1758387704000   2025-09-20T17:01:44Z\n",
      "1758391304000   2025-09-20T18:01:44Z\n",
      "1758394904000   2025-09-20T19:01:44Z\n",
      "1758398504000   2025-09-20T20:01:44Z\n",
      "1758402104000   2025-09-20T21:01:44Z\n",
      "1758405704000   2025-09-20T22:01:44Z\n",
      "1758409304000   2025-09-20T23:01:44Z\n",
      "1758411712000   2025-09-20T23:41:52Z\n",
      "1758454867000   2025-09-21T11:41:07Z\n",
      "1758457275000   2025-09-21T12:21:15Z\n",
      "1758459683000   2025-09-21T13:01:23Z\n",
      "1758463283000   2025-09-21T14:01:23Z\n",
      "1758466883000   2025-09-21T15:01:23Z\n",
      "1758470483000   2025-09-21T16:01:23Z\n",
      "1758474083000   2025-09-21T17:01:23Z\n",
      "1758477683000   2025-09-21T18:01:23Z\n",
      "1758481283000   2025-09-21T19:01:23Z\n",
      "1758484883000   2025-09-21T20:01:23Z\n",
      "1758488483000   2025-09-21T21:01:23Z\n",
      "1758492083000   2025-09-21T22:01:23Z\n",
      "1758495683000   2025-09-21T23:01:23Z\n",
      "1758498091000   2025-09-21T23:41:31Z\n",
      "1758541246000   2025-09-22T11:40:46Z\n",
      "1758543654000   2025-09-22T12:20:54Z\n",
      "1758546062000   2025-09-22T13:01:02Z\n",
      "1758549662000   2025-09-22T14:01:02Z\n",
      "1758553262000   2025-09-22T15:01:02Z\n",
      "1758556862000   2025-09-22T16:01:02Z\n",
      "1758560462000   2025-09-22T17:01:02Z\n",
      "1758564062000   2025-09-22T18:01:02Z\n",
      "1758567662000   2025-09-22T19:01:02Z\n",
      "1758571262000   2025-09-22T20:01:02Z\n",
      "1758574862000   2025-09-22T21:01:02Z\n",
      "1758578462000   2025-09-22T22:01:02Z\n",
      "1758582062000   2025-09-22T23:01:02Z\n",
      "1758584470000   2025-09-22T23:41:10Z\n",
      "1758627624000   2025-09-23T11:40:24Z\n",
      "1758630032000   2025-09-23T12:20:32Z\n",
      "1758632440000   2025-09-23T13:00:40Z\n",
      "1758636040000   2025-09-23T14:00:40Z\n",
      "1758639640000   2025-09-23T15:00:40Z\n",
      "1758643240000   2025-09-23T16:00:40Z\n",
      "1758646840000   2025-09-23T17:00:40Z\n",
      "1758650440000   2025-09-23T18:00:40Z\n",
      "1758654040000   2025-09-23T19:00:40Z\n",
      "1758657640000   2025-09-23T20:00:40Z\n",
      "1758661240000   2025-09-23T21:00:40Z\n",
      "1758714004000   2025-09-24T11:40:04Z\n",
      "1758716412000   2025-09-24T12:20:12Z\n",
      "1758718820000   2025-09-24T13:00:20Z\n",
      "1758722420000   2025-09-24T14:00:20Z\n",
      "1758726020000   2025-09-24T15:00:20Z\n",
      "1758729620000   2025-09-24T16:00:20Z\n",
      "1758733220000   2025-09-24T17:00:20Z\n",
      "1758736820000   2025-09-24T18:00:20Z\n",
      "1758740420000   2025-09-24T19:00:20Z\n",
      "1758744020000   2025-09-24T20:00:20Z\n",
      "1758747620000   2025-09-24T21:00:20Z\n",
      "1758751220000   2025-09-24T22:00:20Z\n",
      "1758754820000   2025-09-24T23:00:20Z\n",
      "1758757228000   2025-09-24T23:40:28Z\n"
     ]
    }
   ],
   "source": [
    "# Create url for multidimensional info request\n",
    "dim_info_url = f\"{image_service_url}/multidimensionalInfo\"\n",
    "\n",
    "# Make request to service API\n",
    "dim_info = requests.get(dim_info_url, params={\"f\": \"json\"}).json()\n",
    "all_times = dim_info[\"multidimensionalInfo\"][\"variables\"][0][\"dimensions\"][0][\"values\"]\n",
    "\n",
    "# Filter to timestamps within the desired range and print count of scans found\n",
    "timestamps = [t for t in all_times if start_time <= t <= end_time]\n",
    "print(\"Number of TEMPO scans:\", len(timestamps))\n",
    "\n",
    "# Iterate through TEMPO scans and print timestamps as Unix epoch and date string\n",
    "for t in timestamps:\n",
    "    date_strings = convert_from_milliseconds(t)\n",
    "    print(t, \" \", date_strings)"
   ]
  },
  {
   "cell_type": "markdown",
   "metadata": {
    "tags": []
   },
   "source": [
    "# 4. Retreive data values for area of interest for selected time period\n",
    "\n",
    "Data values for a selected bounding box can be accessed by sending a Get Samples request to the service URL and returned in a json.\n",
    "The data are iterated through and values added to a dataframe.\n",
    "The dataframe is then viewed as a table."
   ]
  },
  {
   "cell_type": "markdown",
   "metadata": {},
   "source": [
    "## 4.1 Send Get Samples request\n",
    "### 4.1 Get Samples request\n",
    "\n",
    "The user provided information above (variable, time, bounding box) are used to create a Get Samples request, which is sent to the service API. The data response is then stored in a json to access."
   ]
  },
  {
   "cell_type": "code",
   "execution_count": 8,
   "metadata": {
    "tags": []
   },
   "outputs": [],
   "source": [
    "# Create URL for Get Samples request\n",
    "base_url = f\"{image_service_url}/getSamples/\"\n",
    "\n",
    "params = {\n",
    "    \"geometry\": json.dumps(geometry_envelope),\n",
    "    \"geometryType\": \"esriGeometryEnvelope\",\n",
    "    \"sampleDistance\": \"\",              # optional thinning\n",
    "    \"sampleCount\": \"\",                 # optional limit\n",
    "    \"mosaicRule\": json.dumps({\"multidimensionalDefinition\":[{\"variableName\": variable_name}]}),\n",
    "    \"pixelSize\": \"\",                   # e.g., \"0.05\" to coarsen, if desired\n",
    "    \"returnFirstValueOnly\": \"false\",\n",
    "    \"interpolation\": \"RSP_BilinearInterpolation\",  # for smoother columns; use NN for exact pixel values\n",
    "    \"outFields\": \"\",\n",
    "    \"sliceId\": \"\",\n",
    "    \"time\": f\"{start_time},{end_time}\",\n",
    "    \"f\": \"pjson\"\n",
    "}\n",
    "\n",
    "# Make the request to the service API\n",
    "response = requests.get(base_url, params=params)\n",
    "response.raise_for_status()\n",
    "data = response.json()"
   ]
  },
  {
   "cell_type": "markdown",
   "metadata": {},
   "source": [
    "### 4.2 Extract data into a dataframe\n",
    "\n",
    "The returned json contains the variable, timestamps, and data values for the TEMPO scans in the selected time period. Not all scans in the selected time period may have data for the selected envelope. The retrieved data are iterated through to find which scans had data for the selected envelope and adding those data values with their corresponding timestamps to a dataframe. The dataframe is displayed in a table format."
   ]
  },
  {
   "cell_type": "code",
   "execution_count": 9,
   "metadata": {
    "tags": []
   },
   "outputs": [
    {
     "name": "stdout",
     "output_type": "stream",
     "text": [
      "              StdTime          HCHO\n",
      "0 2025-09-20 11:41:28  1.167813e+16\n",
      "1 2025-09-20 12:21:36  1.275896e+16\n",
      "2 2025-09-20 13:01:44  1.747650e+16\n",
      "3 2025-09-20 14:01:44  1.018995e+16\n",
      "4 2025-09-20 15:01:44  1.132089e+16\n"
     ]
    }
   ],
   "source": [
    "# Extract relevant information into a DataFrame\n",
    "samples = []\n",
    "for sample in data.get(\"samples\", []):\n",
    "    attributes = sample.get(\"attributes\", {})\n",
    "    var_value = attributes.get(variable_name)\n",
    "\n",
    "    # Only include the sample if it has a valid value for the variable of interest\n",
    "    \"\"\"Note: this will result in timeslices being excluded if there are no data within the\n",
    "    bounding box. Code may be modified to see all timestamps (i.e., include TEMPO scans\n",
    "    where there are no data).\"\"\"\n",
    "    if var_value is not None:  # keep zeros as valid values\n",
    "        try:\n",
    "            samples.append(\n",
    "                {\n",
    "                    \"StdTime\": attributes[\"StdTime\"],\n",
    "                    variable_name: float(var_value),  # Convert to float\n",
    "                }\n",
    "            )\n",
    "        except (TypeError, ValueError):\n",
    "            # Skip if the value cannot be converted to float\n",
    "            continue\n",
    "\n",
    "# Convert the list to a DataFrame\n",
    "df = pd.DataFrame(samples)\n",
    "\n",
    "# Check if dataframe is empty. If not empty, convert StdTime from Unix timestamp (milliseconds) to datetime and print dataframe\n",
    "if df.empty:\n",
    "    print(\n",
    "        f\"No {variable_name} data found between {start_date_time_str} - {end_date_time_str} \"\n",
    "        f\"for envelope ({xmin}, {ymin}, {xmax}, {ymax}).\"\n",
    "    )\n",
    "else:\n",
    "    df[\"StdTime\"] = pd.to_datetime(df[\"StdTime\"], unit=\"ms\")\n",
    "    print(df.head())\n"
   ]
  },
  {
   "cell_type": "markdown",
   "metadata": {},
   "source": [
    "### 4.3 Display the data in a chart\n",
    "\n",
    "The data in the dataframe can be displayed in a chart. The chart can be exported for later use (this option is commented out by default)."
   ]
  },
  {
   "cell_type": "code",
   "execution_count": 10,
   "metadata": {
    "tags": []
   },
   "outputs": [
    {
     "data": {
      "image/png": "[encoded data removed]",
      "text/plain": [
       "<Figure size 1000x600 with 1 Axes>"
      ]
     },
     "metadata": {},
     "output_type": "display_data"
    }
   ],
   "source": [
    "# Group by time to calculate the average value for each timestamp\n",
    "df_avg = df.groupby(\"StdTime\", as_index=False)[variable_name].mean()\n",
    "\n",
    "# Plotting\n",
    "plt.figure(figsize=(10, 6))\n",
    "plt.plot(df_avg[\"StdTime\"], df_avg[variable_name], marker=\"o\", linestyle=\"-\")\n",
    "\n",
    "# Set title and labels--user may change\n",
    "plt.title(f\"Average {variable_name} Over Time (Envelope)\")  # User may change title as desired\n",
    "plt.xlabel(\"Time (UTC)\")\n",
    "plt.ylabel(\n",
    "    f\"Average {variable_name} (molecules/cm^2)\"\n",
    ")  # Change unit as needed for variable selected (e.g., Ozone total is Dobson units)\n",
    "\n",
    "# Set grid, tick marks, and format\n",
    "plt.grid(True)\n",
    "ax = plt.gca()\n",
    "ax.xaxis.set_major_formatter(mdates.DateFormatter(\"%Y-%m-%d %H:%M:%S\"))\n",
    "plt.xticks(rotation=45)\n",
    "plt.tight_layout()\n",
    "\n",
    "# Optional: Save the plot to a local folder (include file path). Format set to PNG as default but can be changed.\n",
    "# plt.savefig(\"outputGraph.png\", format=\"png\")\n",
    "\n",
    "# Show plot in notebook\n",
    "plt.show()"
   ]
  },
  {
   "cell_type": "markdown",
   "metadata": {},
   "source": [
    "# 5. Create an interactive mapper\n",
    "\n",
    "This mapper includes all of the TEMPO scans within the selected time period. The viewer shows the entire scans (not just around the area of interest). The scans can be stepped through using the time slider. Users may zoom in/out on the map. Users can hover over the map to see coordinates. Users can click on the map to have the coordinate point display below the mapper.\n",
    "\n",
    "NOTE: There is a known bug in Google Colab that limits the time slider to 5 or fewer timesteps in the slider. This notebook has two options for the slider. Option 1 (default), which is hardcoded to only show the first 5 timestamps to avoid this issue, and Option 2, which will show all of the timestamps in the user's selected time period."
   ]
  },
  {
   "cell_type": "code",
   "execution_count": 11,
   "metadata": {
    "tags": []
   },
   "outputs": [],
   "source": [
    "# A handler that will update the map everytime the user moves the slider\n",
    "def update_image(change):\n",
    "    tempo_image_service.time = [change.new, timestamps[4]]\n",
    "\n",
    "\n",
    "# Function to define interactive map behavior\n",
    "def on_click(**kwargs):\n",
    "    \"\"\"When a user clicks on the map, print coordinates below map\"\"\"\n",
    "    if kwargs.get(\"type\") == \"click\":\n",
    "        print(str(kwargs.get(\"coordinates\")))\n",
    "    \"\"\"When a user hovers mouse over map, display coordinates within map\"\"\"\n",
    "    if kwargs.get(\"type\") == \"mousemove\":\n",
    "        latlng = kwargs.get(\"coordinates\")\n",
    "        lat, lng = latlng\n",
    "        coordinates_label.value = f\"Coordinates: ({lat:.5f}, {lng:.5f})\""
   ]
  },
  {
   "cell_type": "code",
   "execution_count": 12,
   "metadata": {
    "tags": []
   },
   "outputs": [
    {
     "data": {
      "application/vnd.jupyter.widget-view+json": {
       "model_id": "8e1cd08325e74d20b943fb1c19fb2abc",
       "version_major": 2,
       "version_minor": 0
      },
      "text/plain": [
       "Map(center=[47, -122], controls=(ZoomControl(options=['position', 'zoom_in_text', 'zoom_in_title', 'zoom_out_t…"
      ]
     },
     "execution_count": 12,
     "metadata": {},
     "output_type": "execute_result"
    }
   ],
   "source": [
    "# Initialize the map\n",
    "m = Map(center=(47, -122), zoom=3, basemap=basemaps.Esri.WorldTopoMap)\n",
    "\n",
    "# Set parameters for calling TEMPO image service\n",
    "\"\"\"Note: The rendering_rule rasterFunction holds the colormap associated with the image service.\n",
    "Replace with the appropriate colormap for best visualization depending on selected variable.\n",
    "NO2: rendering_rule={\"rasterFunction\":\"matter_RGB\"},\n",
    "HCHO: rendering_rule={\"rasterFunction\":\"haline_RGB\"},\n",
    "Ozone Tot: rendering_rule={\"rasterFunction\":\"batlow_RGB\"}, \"\"\"\n",
    "tempo_image_service = ImageService(\n",
    "    url=image_service_url,\n",
    "    rendering_rule={\"rasterFunction\": \"matter_RGB\"},\n",
    "    time=timestamps,\n",
    "    format=\"jpgpng\",\n",
    "    opacity=0.5,\n",
    ")\n",
    "\n",
    "# Create a list with the user selected UTC times with time_values for easy visualization of time\n",
    "time_strings = [convert_from_milliseconds(t) for t in timestamps]\n",
    "\n",
    "# Create a list of tuples to input in SelectionSlider's options for easy visualization of time\n",
    "# Option 1: If using Google Colab, use this time_options to account for a bug that occurs if more than 5 timeslices are called at a time\n",
    "time_options = [(time_strings[i], timestamps[i]) for i in range(5)]\n",
    "\n",
    "# Option 2: If not using Google Colab, use this time_options to call all timeslices\n",
    "# time_options = [(time_strings[i], timestamps[i]) for i in range(len(timestamps))]\n",
    "\n",
    "# Create the slider\n",
    "slider = SelectionSlider(\n",
    "    description=\"Time:\", options=time_options, layout=Layout(width=\"700px\", height=\"20px\")\n",
    ")\n",
    "# slider = SelectionSlider(description='Time:', options=timestamps, layout=Layout(width='700px', height='20px'))\n",
    "\n",
    "# Create a Label for the VBox\n",
    "time_label = Label(value=\"Time Slider\")\n",
    "\n",
    "# Listens to the slider's user input and helps update the map\n",
    "slider.observe(update_image, \"value\")\n",
    "\n",
    "# create a VBox to contain the slider and be placed in the map\n",
    "vbox = VBox([slider, time_label])\n",
    "\n",
    "# Slider placed in bottomleft of the map\n",
    "control = WidgetControl(widget=vbox, position=\"bottomleft\")\n",
    "\n",
    "# Output widget to listen to the user's mouse hovering over the map\n",
    "output = Output()\n",
    "controloutput = WidgetControl(widget=output, position=\"topright\")\n",
    "\n",
    "# Label widget to display coordinates\n",
    "coordinates_label = HTML(value=\"Coordinates: \")\n",
    "coordinates_control = WidgetControl(widget=coordinates_label, position=\"bottomright\")\n",
    "\n",
    "# Add all widgets to the map\n",
    "m.add(tempo_image_service)\n",
    "m.add(control)\n",
    "m.add(controloutput)\n",
    "m.add(coordinates_control)\n",
    "\n",
    "# When user hovers over the map coordinates_label gets updated and prints the coordinates where clicked\n",
    "m.on_interaction(on_click)\n",
    "\n",
    "# Call map\n",
    "m"
   ]
  }
 ],
 "metadata": {
  "kernelspec": {
   "display_name": "Python (nasa2)",
   "language": "python",
   "name": "nasa2"
  },
  "language_info": {
   "codemirror_mode": {
    "name": "ipython",
    "version": 3
   },
   "file_extension": ".py",
   "mimetype": "text/x-python",
   "name": "python",
   "nbconvert_exporter": "python",
   "pygments_lexer": "ipython3",
   "version": "3.11.11"
  }
 },
 "nbformat": 4,
 "nbformat_minor": 4
}
